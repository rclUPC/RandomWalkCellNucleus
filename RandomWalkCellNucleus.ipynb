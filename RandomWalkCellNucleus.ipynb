{
 "cells": [
  {
   "cell_type": "markdown",
   "metadata": {},
   "source": [
    "# Computation of random walk for cell nucleus. Viscosity model"
   ]
  },
  {
   "cell_type": "markdown",
   "metadata": {},
   "source": [
    "The dynamic equation \n",
    "$$\n",
    "m\\frac{\\text{d}{u}}{\\text{d}t} = F_R - 6\\pi\\mu_\\text{ef} Ru \\tag{1}\n",
    "$$ \n",
    "is solved, where $F_R$ is the random force due to the cell wall movement and $\\mu_\\text{ef} = k_\\mu \\mu$ is the effective viscosity, modified due to the wall proximity.\n",
    "\n",
    "This equation is numericaly integrated, with first order finite differences, considering that $F_R$ and $k_\\mu$ are constant in $\\delta t$ giving \n",
    "$$\n",
    "u_{i} = \\frac{F_R}{\\beta} - \\left(\\frac{F_R}{\\beta} - u_{i-1}\\right)\\exp\\left(-\\frac{\\beta}{m}\\delta t \\right) \\tag{4} \n",
    "$$\n",
    "for the velocity, with $\\beta = 6\\pi\\mu k_\\mu R$, and\n",
    "$$\n",
    "x_{i} = x_{i-1}  + \\frac{F_R}{\\beta}\\delta t\n",
    "+\\frac{m}{\\beta} \\left(u_{i-1} - \\frac{F_R}{\\beta} \\right)\\left[1- \\exp\\left(-\\frac{\\beta}{m}\\delta t \\right)\\right] $$\n",
    "for the position.\n"
   ]
  },
  {
   "cell_type": "code",
   "execution_count": 7,
   "metadata": {
    "pycharm": {}
   },
   "outputs": [],
   "source": [
    "%matplotlib inline\n",
    "import matplotlib.pyplot as plt\n",
    "import numpy as np\n",
    "from tqdm import tnrange, notebook"
   ]
  },
  {
   "cell_type": "code",
   "execution_count": 23,
   "metadata": {},
   "outputs": [],
   "source": [
    "# Radius of large sphere (m)\n",
    "R2 = 3.5e-5 \n",
    "# viscosity of fluid (Pa.s)\n",
    "mu = 3.43\n",
    "# Densityof fluid and particle (Kg/m^3)\n",
    "rho = 1000\n",
    "# Wall velocity (m/s)\n",
    "U = 5e-5"
   ]
  },
  {
   "cell_type": "code",
   "execution_count": 24,
   "metadata": {},
   "outputs": [],
   "source": [
    "def logistic(xi,C,xi_0):\n",
    "    return 1/(1+np.exp(-C*(xi-xi_0)))\n",
    "def th_k_mu(k,xi):\n",
    "    k_mu = 1/(1-k)**2*(2*k*(1-k)/((1-k)**2-xi**2)+0.2*(1-7*k+k**2)*np.log10(k**2/((1-k)**2-xi**2)))\n",
    "    return k_mu,1+9/8*k/(1-xi)\n",
    "def k_mu_func(k,xi):\n",
    "    C = 2.67/k**0.43\n",
    "    xi_0n = 0.25/k**0.60\n",
    "    xi_0f = 1.2-11.7*k\n",
    "    k_mu_th = th_k_mu(k,xi)\n",
    "    return k_mu_th[1]*(1-logistic(xi,C,xi_0n))+k_mu_th[0]*logistic(xi,C,xi_0f)\n",
    "def Fr_func(k,xi):\n",
    "    return (0.3+2.43*k)*np.abs(np.tan(np.pi/2*xi/(1-k)))**(0.35+1.56*k)"
   ]
  },
  {
   "cell_type": "code",
   "execution_count": 25,
   "metadata": {
    "pycharm": {
     "is_executing": false
    }
   },
   "outputs": [
    {
     "data": {
      "application/vnd.jupyter.widget-view+json": {
       "model_id": "4d4003335dea4b218c3984895ecf8092",
       "version_major": 2,
       "version_minor": 0
      },
      "text/plain": [
       "Progress for 5 microns:   0%|          | 0/100000 [00:00<?, ?it/s]"
      ]
     },
     "metadata": {},
     "output_type": "display_data"
    }
   ],
   "source": [
    "# Random walk (True) or uniform wall velocity (False)\n",
    "random = True ### <-- EDIT\n",
    "# diameter of microsphere, in microns\n",
    "d = 5  ### <-- EDIT\n",
    "# Radius of microsphere (m)\n",
    "R = d/2*1e-6\n",
    "# relative curvature\n",
    "k = R/R2\n",
    "# microsphere mass (Kg)\n",
    "m = 4/3*np.pi*rho*R**3\n",
    "# Reference force. Based on Stokes with all velocity\n",
    "F_ref = 6*np.pi*mu*R*U\n",
    "#\n",
    "#\n",
    "# Numerical data\n",
    "#\n",
    "# Delta time for numerical computation (s)\n",
    "delta_t = 1e-3 ### <-- EDIT\n",
    "# Periode of wall movement (s)\n",
    "T = 0.15 ### <-- EDIT\n",
    "# Number of iterations in a wall movement cycle \n",
    "iT = int(T/delta_t) \n",
    "# Duty time for wall velocity (time in wich wall is moving)\n",
    "Tf = 0.003 ### <-- EDIT\n",
    "# Number of cycles movements\n",
    "Nc = 100000 ### <-- EDIT\n",
    "# Final time of simulation\n",
    "t_final = Nc*T\n",
    "# Results saving time (s)\n",
    "t_w = 0.5 ### <-- EDIT\n",
    "# Array of times for results\n",
    "t = np.arange(0,t_final,t_w)\n",
    "# Initialization of positions and velocities of microsphere\n",
    "x = np.zeros(t.size)\n",
    "u = np.zeros(t.size)\n",
    "x[0] = 0.7*R2 ### <-- EDIT\n",
    "u[0] = 0\n",
    "# Initialization for computation loop\n",
    "xi = x[0]\n",
    "ui = u[0]\n",
    "# To save viscosity parameter and force\n",
    "k_mu = np.zeros(t.size)\n",
    "Fr = np.zeros(t.size)\n",
    "# Computation loop\n",
    "sign = 1 # sign of force (to change t in each cyce)\n",
    "itw = 0 # output iteration\n",
    "for ic in notebook.tqdm(range(0,Nc),desc='Progress for {} microns: '.format(d)):\n",
    "    # Force computation\n",
    "    Fuerza_media = Fr_func(k,xi/R2)*F_ref\n",
    "    if random:\n",
    "        amplitud = sign*np.random.normal(Fuerza_media,Fuerza_media/4)\n",
    "    else:\n",
    "        amplitud = sign*Fuerza_media\n",
    "    for tc in (range(0,iT)):\n",
    "        tii = tc*delta_t # time inside the cycle (for force computation)\n",
    "        if (tii < Tf):\n",
    "            Fri = amplitud\n",
    "            Fri_keep = Fri # For the sake of visualization\n",
    "        else:\n",
    "            Fri = 0.0\n",
    "        xold = xi\n",
    "        uold = ui\n",
    "        k_mui = k_mu_func(k,xi/R2)\n",
    "        beta = 6*np.pi*mu*R*k_mui\n",
    "        ui = Fri/beta + (uold - Fri/beta)*np.exp(-beta*delta_t/m)\n",
    "        xi = xold + Fri/beta*delta_t + m/beta*(uold - Fri/beta)*(1- np.exp(-beta*delta_t/m))\n",
    "        # Keep the data\n",
    "        i = ic * iT + tc\n",
    "        ti = i*delta_t\n",
    "        if (i == int(itw*t_w/delta_t)):\n",
    "            u[itw] = ui\n",
    "            x[itw] = xi\n",
    "            k_mu[itw] = k_mui\n",
    "            Fr[int(itw)] = Fri_keep\n",
    "            itw += 1\n",
    "    sign = -sign # Change the sign of force for next cycle"
   ]
  },
  {
   "cell_type": "code",
   "execution_count": 26,
   "metadata": {},
   "outputs": [
    {
     "data": {
      "text/plain": [
       "Text(0, 0.5, '$\\\\xi$')"
      ]
     },
     "execution_count": 26,
     "metadata": {},
     "output_type": "execute_result"
    },
    {
     "data": {
      "image/png": "[encoded data removed]",
      "text/plain": [
       "<Figure size 432x288 with 1 Axes>"
      ]
     },
     "metadata": {
      "needs_background": "light"
     },
     "output_type": "display_data"
    }
   ],
   "source": [
    "plt.plot(t/3600,x/R2)\n",
    "plt.xlabel(r'$t\\;[h]$')\n",
    "plt.ylabel(r'$\\xi$')"
   ]
  },
  {
   "cell_type": "code",
   "execution_count": null,
   "metadata": {},
   "outputs": [],
   "source": []
  }
 ],
 "metadata": {
  "kernelspec": {
   "display_name": "Python 3 (ipykernel)",
   "language": "python",
   "name": "python3"
  },
  "language_info": {
   "codemirror_mode": {
    "name": "ipython",
    "version": 3
   },
   "file_extension": ".py",
   "mimetype": "text/x-python",
   "name": "python",
   "nbconvert_exporter": "python",
   "pygments_lexer": "ipython3",
   "version": "3.8.13"
  }
 },
 "nbformat": 4,
 "nbformat_minor": 4
}
